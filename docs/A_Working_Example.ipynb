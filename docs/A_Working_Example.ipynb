{
 "cells": [
  {
   "cell_type": "markdown",
   "metadata": {},
   "source": [
    "# A Working Example\n",
    "\n",
    "This example shows :\n",
    "\n",
    "1) how to run the program for some video\n",
    "\n",
    "2) how to set some important parameters for the detection, fixing and post processing\n",
    "\n",
    "3) how to show the results"
   ]
  },
  {
   "cell_type": "markdown",
   "metadata": {},
   "source": [
    "## The detection part\n",
    "The detection part is seprarted by loading a pretrained YOLOv4 network. The training should be done already before running this tracking program.\n",
    "\n",
    "The library that load the structure of YOLO is part of the project (https://github.com/Tianxiaomo/pytorch-YOLOv4)\n",
    "\n",
    "Using other detection network is possiable, you just have to use it within the class `YoloDetector` and edit its methods accordingly.\n",
    "\n",
    "\n"
   ]
  },
  {
   "cell_type": "markdown",
   "metadata": {},
   "source": [
    "To load all the libraries shown below, you should be at the root of the project folder. If you are running this in the `docs` directory, then you can type"
   ]
  },
  {
   "cell_type": "code",
   "execution_count": 1,
   "metadata": {},
   "outputs": [
    {
     "name": "stdout",
     "output_type": "stream",
     "text": [
      "C:\\Users\\yasin\\Documents\\Codes\\Joss_examples\\Offline_MOT\n"
     ]
    }
   ],
   "source": [
    "%cd ../.."
   ]
  },
  {
   "cell_type": "code",
   "execution_count": 2,
   "metadata": {},
   "outputs": [],
   "source": [
    "from detection import YoloDetector"
   ]
  },
  {
   "cell_type": "markdown",
   "metadata": {},
   "source": [
    "This class can take several input parameters, like the YOLO configuration file, the model file (in pytorch format) and lastly a flag to wheather to use GPU or CPU"
   ]
  },
  {
   "cell_type": "code",
   "execution_count": 4,
   "metadata": {},
   "outputs": [
    {
     "name": "stdout",
     "output_type": "stream",
     "text": [
      "convalution havn't activate linear\n",
      "convalution havn't activate linear\n",
      "convalution havn't activate linear\n"
     ]
    }
   ],
   "source": [
    "detector  = YoloDetector('yolov4-obj.cfg','Yolov4_epoch300.pth',use_cuda=False)"
   ]
  },
  {
   "cell_type": "markdown",
   "metadata": {},
   "source": [
    "Detection is only performed every *N* frame. Where *N* is set according to `config.py` file with this varaiable:     `detect_every_N`. Bigger values are better but slower to run.\n",
    "\n",
    "Other paramters that are worth mentioning are:\n",
    "\n",
    "```python\n",
    "### Detection paramters\n",
    "detect_thresh = 0.35 #Yolo detection\n",
    "# distance to the nearst match between detection and tracking\n",
    "# output in pixels\n",
    "dist_thresh = 35 \n",
    "```\n",
    "The `detect_thresh` is used to put a threshold on YOLO probabilty output for each detected class. The lower this value the more detections we will get but with less accuracy. \n",
    "\n",
    "\n",
    "The `dist_thresh` is for matching each detection with already detected object, it shouldn't be too big."
   ]
  },
  {
   "cell_type": "markdown",
   "metadata": {},
   "source": [
    "## How to run\n",
    "\n",
    "To run the full program, you need to run the `main.py` script with the `-v` flag set to the name and directory of the video in the base directory of the project. \n",
    "\n",
    "Try to run the following command to see the result on the sample video:\n",
    "\n",
    "`python main.py -v docs\\sample.mp4`"
   ]
  },
  {
   "cell_type": "markdown",
   "metadata": {},
   "source": [
    "## Fixing and smoothing\n",
    "\n",
    "In `config.py` file the following are the parameters for the part of fixing the view. The first boolean is for wheather to do fixing or not , mainly because it is slow.\n",
    "\n",
    "```python\n",
    "### fix view paramers\n",
    "do_fix = False\n",
    "fixing_dilation = 13\n",
    "min_matches     = 15\n",
    "```\n",
    "\n",
    "The part for doing the smoothing is also included in the same file as follows. The first boolean is for doing the smoothing or not, the other two is related to Savitzky-Golay filter from `scipy` library.\n",
    "\n",
    "\n",
    "```python\n",
    "### Smoothing for post processing\n",
    "do_smooth   = True\n",
    "window_size = 7\n",
    "polydegree  = 3\n",
    "```\n",
    "\n",
    "Other step (than smoothing) is included in the `postprocess.py` file, namely, the orientation calculation. It is calculated from the trajectory itself where the next point help in finding the current point heading."
   ]
  },
  {
   "cell_type": "markdown",
   "metadata": {},
   "source": [
    "## How to show result\n",
    "\n",
    "After running the program on your video a txt file will be saved in the **outputs** directory with the same name as the provided video.\n",
    "\n",
    "*Note* if your videos are named with similar names (for example numbers), you should copy the last result to other folder before start tracking a new video, because any file with similar name will be overwritten.\n",
    "\n",
    "\n",
    "If you want to show the result with angles and smoothing for the sample video above, you can run the command: \n",
    "\n",
    "`python show_results.py -v docs\\sample.mp4`\n",
    "\n",
    "The directory after the -v flag is the same as the one from which the video were processed."
   ]
  },
  {
   "cell_type": "markdown",
   "metadata": {},
   "source": [
    "## Output structure\n",
    "\n",
    "in the output text file, each line is structured as follows,\n",
    "\n",
    "*Frame_id [top_left_x top_left_y width height] class_id track_id angel*\n",
    "\n",
    "Example:\n",
    "\n",
    "´39 [3748, 964, 169, 73] 2 5 138´\n"
   ]
  }
 ],
 "metadata": {
  "kernelspec": {
   "display_name": "Python 3",
   "language": "python",
   "name": "python3"
  },
  "language_info": {
   "codemirror_mode": {
    "name": "ipython",
    "version": 3
   },
   "file_extension": ".py",
   "mimetype": "text/x-python",
   "name": "python",
   "nbconvert_exporter": "python",
   "pygments_lexer": "ipython3",
   "version": "3.7.7"
  }
 },
 "nbformat": 4,
 "nbformat_minor": 2
}

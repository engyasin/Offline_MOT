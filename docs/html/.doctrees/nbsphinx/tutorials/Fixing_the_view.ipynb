{
 "cells": [
  {
   "cell_type": "markdown",
   "metadata": {},
   "source": [
    "# Fixing the view for Detection and Tracking Example\n",
    "\n",
    "Becuase of the wind sometime the drone moves a bit randomly. As a result, the frames will have a slight transition and rotation. This is undesriable as it will make the a transition and rotation in the detected trajectories as well. For that, we need to do some transformation on the frames to make them all to have the same view.\n",
    "\n",
    "In the following example of the sample video all the frames should have the same position. \n",
    "\n",
    "All the parameters for view fixing are in `config.py` file."
   ]
  },
  {
   "cell_type": "markdown",
   "metadata": {},
   "source": [
    "First of all, all the required liberaries should be imported."
   ]
  },
  {
   "cell_type": "code",
   "execution_count": 2,
   "metadata": {},
   "outputs": [],
   "source": [
    "from offlinemot.utils_ import resize\n",
    "from offlinemot.fix_view import FixView, BG_subtractor\n",
    "from offlinemot.config import config"
   ]
  },
  {
   "cell_type": "code",
   "execution_count": 1,
   "metadata": {},
   "outputs": [],
   "source": [
    "import numpy as np \n",
    "import os\n",
    "import cv2 "
   ]
  },
  {
   "cell_type": "markdown",
   "metadata": {},
   "source": [
    "Now the sample video should be read with a video reader object from Opencv liberary"
   ]
  },
  {
   "cell_type": "code",
   "execution_count": 3,
   "metadata": {},
   "outputs": [],
   "source": [
    "cap = cv2.VideoCapture(os.path.join(config.cwd,'model','sample.mp4'))\n",
    "ret, bg = cap.read() # read the first frame"
   ]
  },
  {
   "cell_type": "markdown",
   "metadata": {},
   "source": [
    "The first frame is considered the default frame in the start to compare it with the next frames in the video in order to detect the transformation needed to each frame."
   ]
  },
  {
   "cell_type": "markdown",
   "metadata": {},
   "source": [
    "In the case where we want start to the movement detection at some later frame, not the first one. We could write"
   ]
  },
  {
   "cell_type": "code",
   "execution_count": 4,
   "metadata": {},
   "outputs": [
    {
     "data": {
      "text/plain": [
       "True"
      ]
     },
     "execution_count": 4,
     "metadata": {},
     "output_type": "execute_result"
    }
   ],
   "source": [
    "frame_id = 1 # the frame that should we start from\n",
    "cap.set(1, frame_id-1)"
   ]
  },
  {
   "cell_type": "markdown",
   "metadata": {},
   "source": [
    "Then the first reference frame is read"
   ]
  },
  {
   "cell_type": "code",
   "execution_count": 5,
   "metadata": {},
   "outputs": [],
   "source": [
    "ret,bg_rgb = cap.read()"
   ]
  },
  {
   "cell_type": "markdown",
   "metadata": {},
   "source": [
    "Then we intilize the fix view and background substarctor objects. The latter is needed so we can see the effect of stabilizing the view."
   ]
  },
  {
   "cell_type": "code",
   "execution_count": 6,
   "metadata": {},
   "outputs": [],
   "source": [
    "Fix_obj = FixView(bg_rgb)\n",
    "BG_s = BG_subtractor(bg)\n",
    "ret, frame = cap.read()"
   ]
  },
  {
   "cell_type": "markdown",
   "metadata": {},
   "source": [
    "To start fixing each frame at the start we need the forground mask. For that we run the background substarction one time before the main loop"
   ]
  },
  {
   "cell_type": "code",
   "execution_count": 7,
   "metadata": {},
   "outputs": [],
   "source": [
    "\n",
    "fg_img= BG_s.bg_substract(frame)"
   ]
  },
  {
   "cell_type": "markdown",
   "metadata": {},
   "source": [
    "## Main loop\n",
    "Now it is time to start the fixing and background substarction loop.\n",
    "The result will be shown in a new window\n",
    "\n",
    "The video will keep running until you hit **ESC** or the video ends"
   ]
  },
  {
   "cell_type": "code",
   "execution_count": 8,
   "metadata": {},
   "outputs": [],
   "source": [
    "while ret:\n",
    "    frame_id += 1\n",
    "    \n",
    "    frame = Fix_obj.fix_view(frame,fg_img)\n",
    "    I_com = BG_s.bg_substract(frame)\n",
    "    \n",
    "    cv2.imshow('fgmask', resize(frame,0.2)) \n",
    "    \n",
    "    #print(frame_id)\n",
    "    k = cv2.waitKey(30) & 0xff\n",
    "    if k == 27: \n",
    "        break\n",
    "    ret, frame = cap.read()\n",
    "\n",
    "cap.release() \n",
    "cv2.destroyAllWindows() "
   ]
  },
  {
   "cell_type": "markdown",
   "metadata": {},
   "source": [
    "We find that the program is slow. but we will try to run the step of filtering of small objects to evaluate the performace of the program."
   ]
  },
  {
   "cell_type": "code",
   "execution_count": 12,
   "metadata": {},
   "outputs": [],
   "source": [
    "cap = cv2.VideoCapture(os.path.join(config.cwd,'model','sample.mp4'))\n",
    "ret, bg = cap.read() # read the first frame\n",
    "\n",
    "BG_s = BG_subtractor(bg)\n",
    "Fix_obj = FixView(bg_rgb)\n",
    "ret, frame = cap.read()\n",
    "\n",
    "fg_img= BG_s.bg_substract(frame)\n",
    "frame_id = 0\n",
    "while ret:\n",
    "    frame_id += 1\n",
    "    \n",
    "    I_com = BG_s.bg_substract(frame)\n",
    "    # filter small objects\n",
    "    I_com, _ = BG_s.get_big_objects(I_com,frame)\n",
    "    \n",
    "    cv2.imshow('fgmask', resize(frame,0.2)) \n",
    "    \n",
    "    #print(frame_id)\n",
    "    # save one frame for showing in the notebook\n",
    "    if frame_id == 30:\n",
    "        frame_2_save = resize(I_com).copy()\n",
    "    k = cv2.waitKey(30) & 0xff\n",
    "    if k == 27: \n",
    "        break\n",
    "    ret, frame = cap.read()\n",
    "\n",
    "cap.release() \n",
    "cv2.destroyAllWindows() "
   ]
  },
  {
   "cell_type": "markdown",
   "metadata": {},
   "source": [
    "At the end we can show the background subtraction result in step 30."
   ]
  },
  {
   "cell_type": "code",
   "execution_count": 10,
   "metadata": {},
   "outputs": [],
   "source": [
    "%matplotlib inline"
   ]
  },
  {
   "cell_type": "code",
   "execution_count": 13,
   "metadata": {},
   "outputs": [
    {
     "data": {
      "text/plain": [
       "<matplotlib.image.AxesImage at 0x25b38f1e188>"
      ]
     },
     "execution_count": 13,
     "metadata": {},
     "output_type": "execute_result"
    },
    {
     "data": {
      "image/png": "[encoded data removed]",
      "text/plain": [
       "<Figure size 432x288 with 1 Axes>"
      ]
     },
     "metadata": {
      "needs_background": "light"
     },
     "output_type": "display_data"
    }
   ],
   "source": [
    "import matplotlib.pyplot as plt\n",
    "plt.imshow(frame_2_save)"
   ]
  }
 ],
 "metadata": {
  "kernelspec": {
   "display_name": "Python 3",
   "language": "python",
   "name": "python3"
  },
  "language_info": {
   "codemirror_mode": {
    "name": "ipython",
    "version": 3
   },
   "file_extension": ".py",
   "mimetype": "text/x-python",
   "name": "python",
   "nbconvert_exporter": "python",
   "pygments_lexer": "ipython3",
   "version": "3.7.7"
  }
 },
 "nbformat": 4,
 "nbformat_minor": 2
}

{
 "cells": [
  {
   "cell_type": "markdown",
   "metadata": {},
   "source": [
    "# Tracking Example\n",
    "\n",
    "This example shows how a single object that is already detected can be tracked.\n",
    "The tracking can be done using **OpenCV** tracking implementations."
   ]
  },
  {
   "cell_type": "markdown",
   "metadata": {},
   "source": [
    "First of all, all the required liberaries should be imported."
   ]
  },
  {
   "cell_type": "code",
   "execution_count": 12,
   "metadata": {},
   "outputs": [],
   "source": [
    "\n",
    "from offlinemot.utils_ import resize\n",
    "from offlinemot.fix_view import FixView, BG_subtractor\n",
    "from offlinemot.objects_classes import TrafficObj\n",
    "from offlinemot.config import config"
   ]
  },
  {
   "cell_type": "code",
   "execution_count": 23,
   "metadata": {},
   "outputs": [],
   "source": [
    "import numpy as np \n",
    "import cv2 \n",
    "import os"
   ]
  },
  {
   "cell_type": "markdown",
   "metadata": {},
   "source": [
    "Now the sample video should be read with a video reader object from Opencv library"
   ]
  },
  {
   "cell_type": "code",
   "execution_count": 32,
   "metadata": {},
   "outputs": [],
   "source": [
    "cap = cv2.VideoCapture(os.path.join(config.cwd,'model','sample.mp4'))\n",
    "ret, bg = cap.read() # read the first frame"
   ]
  },
  {
   "cell_type": "markdown",
   "metadata": {},
   "source": [
    "We can start the tracking from the first frame, or from another later frame by writing:"
   ]
  },
  {
   "cell_type": "code",
   "execution_count": 33,
   "metadata": {},
   "outputs": [
    {
     "data": {
      "text/plain": [
       "True"
      ]
     },
     "execution_count": 33,
     "metadata": {},
     "output_type": "execute_result"
    }
   ],
   "source": [
    "frame_id = 10 # the frame that should we start from\n",
    "cap.set(1, frame_id-1)"
   ]
  },
  {
   "cell_type": "markdown",
   "metadata": {},
   "source": [
    "Then the first reference frame is read as follows"
   ]
  },
  {
   "cell_type": "code",
   "execution_count": 34,
   "metadata": {},
   "outputs": [],
   "source": [
    "ret,bg_rgb = cap.read()"
   ]
  },
  {
   "cell_type": "markdown",
   "metadata": {},
   "source": [
    "We initialize the fix view and background subtractor objects. Theses objects are needed only for detecting on the first time, then the tracking object is started"
   ]
  },
  {
   "cell_type": "code",
   "execution_count": 35,
   "metadata": {},
   "outputs": [],
   "source": [
    "Fix_obj = FixView(bg_rgb)\n",
    "BG_s = BG_subtractor(bg)\n",
    "ret, frame = cap.read()"
   ]
  },
  {
   "cell_type": "markdown",
   "metadata": {},
   "source": [
    "To start fixing each frame at the start we need the forground mask. For that we can run the background subtarction one time before the main loop"
   ]
  },
  {
   "cell_type": "code",
   "execution_count": 36,
   "metadata": {},
   "outputs": [],
   "source": [
    "\n",
    "fg_img= BG_s.bg_substract(frame)"
   ]
  },
  {
   "cell_type": "markdown",
   "metadata": {},
   "source": [
    "## Creating the tracker objects\n",
    "\n",
    "Now to get the boxes that we want to start with we can run the following which will get the objects from the forground"
   ]
  },
  {
   "cell_type": "code",
   "execution_count": 37,
   "metadata": {},
   "outputs": [],
   "source": [
    "I_com, fg_objs = BG_s.get_big_objects(fg_img,frame)"
   ]
  },
  {
   "cell_type": "markdown",
   "metadata": {},
   "source": [
    "From `fg_objs` we create the traffic objects. Note that we can set another type of trackers than `TrackerKCF_create` to `TrackerMIL_create` or `TrackerMedianFlow_create`. But the first (the default one) has the feature of getting the failing states as well.\n",
    "\n",
    "At the end what we will have is a list of objects ready to be tarcked in the video"
   ]
  },
  {
   "cell_type": "code",
   "execution_count": 38,
   "metadata": {},
   "outputs": [],
   "source": [
    "output = []\n",
    "for obj_item in fg_objs:\n",
    "    box = [obj_item.bbox[1],obj_item.bbox[0],obj_item.bbox[3]-obj_item.bbox[1],obj_item.bbox[2]-obj_item.bbox[0]]\n",
    "\n",
    "    if all(box) and (obj_item.area > 1000): \n",
    "        # to avoid objects at edge\n",
    "        new_obj = TrafficObj(frame,frame_id,box,-1,class_id=-1,detection_way=3,tracker=cv2.TrackerKCF_create)\n",
    "        output.append(new_obj)\n"
   ]
  },
  {
   "cell_type": "markdown",
   "metadata": {},
   "source": [
    "to see how much objects we have we can type"
   ]
  },
  {
   "cell_type": "code",
   "execution_count": 39,
   "metadata": {},
   "outputs": [
    {
     "name": "stdout",
     "output_type": "stream",
     "text": [
      "3\n"
     ]
    }
   ],
   "source": [
    "print(len(output))"
   ]
  },
  {
   "cell_type": "markdown",
   "metadata": {},
   "source": [
    "## Main loop\n",
    "Now it is time to start the fixing and background substarction loop.\n",
    "The result will be shown in a new window\n",
    "\n",
    "The video will keep running until you hit **ESC** or the video end"
   ]
  },
  {
   "cell_type": "code",
   "execution_count": 40,
   "metadata": {},
   "outputs": [],
   "source": [
    "while ret:\n",
    "    frame_id += 1\n",
    "    \n",
    "    frame = Fix_obj.fix_view(frame,fg_img)\n",
    "    I_com = BG_s.bg_substract(frame)\n",
    "    \n",
    "    #print(frame_id)\n",
    "    k = cv2.waitKey(30) & 0xff\n",
    "    if k == 27: \n",
    "        break\n",
    "    ret, frame = cap.read()\n",
    "    new_frame = frame.copy()\n",
    "    for obj in output:\n",
    "        obj.track(frame,frame_id)\n",
    "        new_frame = obj.draw(new_frame) \n",
    "        \n",
    "    cv2.imshow('fgmask', resize(new_frame,0.2)) \n",
    "\n",
    "cap.release() \n",
    "cv2.destroyAllWindows() "
   ]
  },
  {
   "cell_type": "markdown",
   "metadata": {},
   "source": [
    "The result shows the initial objects tracked, but not any new ones. This is because a repeated detection step is needed to detect and track any new object (not just tracking)."
   ]
  }
 ],
 "metadata": {
  "kernelspec": {
   "display_name": "Python 3",
   "language": "python",
   "name": "python3"
  },
  "language_info": {
   "codemirror_mode": {
    "name": "ipython",
    "version": 3
   },
   "file_extension": ".py",
   "mimetype": "text/x-python",
   "name": "python",
   "nbconvert_exporter": "python",
   "pygments_lexer": "ipython3",
   "version": "3.7.7"
  }
 },
 "nbformat": 4,
 "nbformat_minor": 2
}

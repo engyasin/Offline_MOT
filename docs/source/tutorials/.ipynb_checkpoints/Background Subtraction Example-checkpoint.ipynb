{
 "cells": [
  {
   "cell_type": "markdown",
   "metadata": {},
   "source": [
    "# Background Substarction for Detection and Tracking Example\n",
    "\n",
    "In the following example with the sample video the movement should be detected frame by frame.\n",
    "\n",
    "All the background substraction parameters are in config.py file."
   ]
  },
  {
   "cell_type": "markdown",
   "metadata": {},
   "source": [
    "First of all, all the required liberaries should be imported."
   ]
  },
  {
   "cell_type": "code",
   "execution_count": 3,
   "metadata": {},
   "outputs": [
    {
     "name": "stdout",
     "output_type": "stream",
     "text": [
      "C:\\Users\\yasin\\Documents\\Codes\\Joss_examples\\Offline_MOT\n"
     ]
    }
   ],
   "source": [
    "%cd ..\\.. \n",
    "# only if you run it from the sub directory\n",
    "from utils import resize\n",
    "from background_substraction import BG_substractor"
   ]
  },
  {
   "cell_type": "code",
   "execution_count": 4,
   "metadata": {},
   "outputs": [],
   "source": [
    "import numpy as np \n",
    "import cv2 "
   ]
  },
  {
   "cell_type": "markdown",
   "metadata": {},
   "source": [
    "Now the sample video should be read with a video reader object from Opencv liberary"
   ]
  },
  {
   "cell_type": "code",
   "execution_count": 5,
   "metadata": {},
   "outputs": [],
   "source": [
    "cap = cv2.VideoCapture('docs/sample.mp4')\n",
    "ret, bg = cap.read() # read the first frame"
   ]
  },
  {
   "cell_type": "markdown",
   "metadata": {},
   "source": [
    "The first frame is considered the default background in the start to compare it with the next frames in the video in order to detect the motion."
   ]
  },
  {
   "cell_type": "markdown",
   "metadata": {},
   "source": [
    "In the case where we want start the movement detection at some later frame, not the first one. We could write"
   ]
  },
  {
   "cell_type": "code",
   "execution_count": 6,
   "metadata": {},
   "outputs": [
    {
     "data": {
      "text/plain": [
       "True"
      ]
     },
     "execution_count": 6,
     "metadata": {},
     "output_type": "execute_result"
    }
   ],
   "source": [
    "frame_id = 1 # the frame that should we start from\n",
    "cap.set(1, frame_id-1)"
   ]
  },
  {
   "cell_type": "markdown",
   "metadata": {},
   "source": [
    "Then we intilize the background substarctor object"
   ]
  },
  {
   "cell_type": "code",
   "execution_count": 7,
   "metadata": {},
   "outputs": [],
   "source": [
    "BG_s = BG_substractor(bg)\n",
    "ret, frame = cap.read()"
   ]
  },
  {
   "cell_type": "markdown",
   "metadata": {},
   "source": [
    "# Main loop\n",
    "Now everything are ready to start the background substarction loop.\n",
    "The result will be shown in a new window\n",
    "\n",
    "The video will keep running until you hit **ESC** or the video end"
   ]
  },
  {
   "cell_type": "code",
   "execution_count": 22,
   "metadata": {},
   "outputs": [],
   "source": [
    "while ret:\n",
    "    frame_id += 1\n",
    "    \n",
    "    I_com = BG_s.bg_substract(frame)\n",
    "    \n",
    "    cv2.imshow('fgmask', resize(I_com,0.2)) \n",
    "    \n",
    "    #print(frame_id)\n",
    "    k = cv2.waitKey(30) & 0xff\n",
    "    if k == 27: \n",
    "        break\n",
    "    ret, frame = cap.read()\n",
    "\n",
    "cap.release() \n",
    "cv2.destroyAllWindows() "
   ]
  },
  {
   "attachments": {},
   "cell_type": "markdown",
   "metadata": {},
   "source": [
    "As it was shown, the result has some problems, \n",
    "The moving cyclists are detected but not perfectly. Additionally the trees and part of the road are detected as moving objects.\n",
    "\n",
    "\n",
    "A resonable step would be to filter the video from the small noisy objects by deleting the small blobs. we can test that using other method of the class, namely: \n",
    "`get_big_objects`\n"
   ]
  },
  {
   "cell_type": "code",
   "execution_count": 8,
   "metadata": {},
   "outputs": [],
   "source": [
    "cap = cv2.VideoCapture('docs/sample.mp4')\n",
    "ret, bg = cap.read() # read the first frame\n",
    "\n",
    "BG_s = BG_substractor(bg)\n",
    "ret, frame = cap.read()\n",
    "\n",
    "while ret:\n",
    "    frame_id += 1\n",
    "    \n",
    "    I_com = BG_s.bg_substract(frame)\n",
    "    # filter small objects\n",
    "    I_com, _ = BG_s.get_big_objects(I_com,frame)\n",
    "    \n",
    "    cv2.imshow('fgmask', resize(I_com,0.2)) \n",
    "    \n",
    "    if frame_id == 30:\n",
    "        frame_2_save = resize(I_com).copy()\n",
    "    #print(frame_id)\n",
    "    k = cv2.waitKey(30) & 0xff\n",
    "    if k == 27: \n",
    "        break\n",
    "    ret, frame = cap.read()\n",
    "\n",
    "cap.release() \n",
    "cv2.destroyAllWindows() "
   ]
  },
  {
   "cell_type": "markdown",
   "metadata": {},
   "source": [
    "Finally we can view the result at step 30, as follows:"
   ]
  },
  {
   "cell_type": "code",
   "execution_count": 9,
   "metadata": {},
   "outputs": [],
   "source": [
    "%matplotlib inline"
   ]
  },
  {
   "cell_type": "code",
   "execution_count": 10,
   "metadata": {},
   "outputs": [
    {
     "data": {
      "text/plain": [
       "<matplotlib.image.AxesImage at 0x2afc1e48748>"
      ]
     },
     "execution_count": 10,
     "metadata": {},
     "output_type": "execute_result"
    },
    {
     "data": {
      "image/png": "[encoded data removed]",
      "text/plain": [
       "<Figure size 432x288 with 1 Axes>"
      ]
     },
     "metadata": {
      "needs_background": "light"
     },
     "output_type": "display_data"
    }
   ],
   "source": [
    "import matplotlib.pyplot as plt\n",
    "plt.imshow(frame_2_save)"
   ]
  },
  {
   "cell_type": "markdown",
   "metadata": {},
   "source": [
    "This final result shows much better results (although  there is still some noise from the moving trees but it is smaller)"
   ]
  }
 ],
 "metadata": {
  "kernelspec": {
   "display_name": "Python 3",
   "language": "python",
   "name": "python3"
  },
  "language_info": {
   "codemirror_mode": {
    "name": "ipython",
    "version": 3
   },
   "file_extension": ".py",
   "mimetype": "text/x-python",
   "name": "python",
   "nbconvert_exporter": "python",
   "pygments_lexer": "ipython3",
   "version": "3.7.7"
  }
 },
 "nbformat": 4,
 "nbformat_minor": 2
}

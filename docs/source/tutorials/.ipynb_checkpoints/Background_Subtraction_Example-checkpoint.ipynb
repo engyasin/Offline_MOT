{
 "cells": [
  {
   "cell_type": "markdown",
   "metadata": {},
   "source": [
    "# Background Subtraction for Detection and Tracking Example\n",
    "\n",
    "In the following example with the sample video the movement should be detected frame by frame.\n",
    "\n",
    "All the background subtraction parameters are in `configs` class, section `Background subtraction`"
   ]
  },
  {
   "cell_type": "code",
   "execution_count": 1,
   "metadata": {},
   "outputs": [
    {
     "ename": "ModuleNotFoundError",
     "evalue": "No module named 'offlinemot.utils_'",
     "output_type": "error",
     "traceback": [
      "\u001b[1;31m---------------------------------------------------------------------------\u001b[0m",
      "\u001b[1;31mModuleNotFoundError\u001b[0m                       Traceback (most recent call last)",
      "\u001b[1;32m~\\AppData\\Local\\Temp\\ipykernel_40000\\2498860203.py\u001b[0m in \u001b[0;36m<module>\u001b[1;34m\u001b[0m\n\u001b[1;32m----> 1\u001b[1;33m \u001b[1;32mfrom\u001b[0m \u001b[0mofflinemot\u001b[0m\u001b[1;33m.\u001b[0m\u001b[0mutils_\u001b[0m \u001b[1;32mimport\u001b[0m \u001b[0mresize\u001b[0m\u001b[1;33m\u001b[0m\u001b[1;33m\u001b[0m\u001b[0m\n\u001b[0m\u001b[0;32m      2\u001b[0m \u001b[1;32mfrom\u001b[0m \u001b[0mofflinemot\u001b[0m\u001b[1;33m.\u001b[0m\u001b[0mbackground_subtraction\u001b[0m \u001b[1;32mimport\u001b[0m \u001b[0mBG_subtractor\u001b[0m\u001b[1;33m\u001b[0m\u001b[1;33m\u001b[0m\u001b[0m\n\u001b[0;32m      3\u001b[0m \u001b[1;32mfrom\u001b[0m \u001b[0mofflinemot\u001b[0m\u001b[1;33m.\u001b[0m\u001b[0mconfig\u001b[0m \u001b[1;32mimport\u001b[0m \u001b[0mconfig\u001b[0m\u001b[1;33m\u001b[0m\u001b[1;33m\u001b[0m\u001b[0m\n\u001b[0;32m      4\u001b[0m \u001b[1;33m\u001b[0m\u001b[0m\n\u001b[0;32m      5\u001b[0m \u001b[1;32mimport\u001b[0m \u001b[0mnumpy\u001b[0m \u001b[1;32mas\u001b[0m \u001b[0mnp\u001b[0m\u001b[1;33m\u001b[0m\u001b[1;33m\u001b[0m\u001b[0m\n",
      "\u001b[1;31mModuleNotFoundError\u001b[0m: No module named 'offlinemot.utils_'"
     ]
    }
   ],
   "source": [
    "from offlinemot.utils_ import resize\n",
    "from offlinemot.background_subtraction import BG_subtractor\n",
    "from offlinemot.config import configs\n",
    "\n",
    "import numpy as np \n",
    "import cv2 \n",
    "import os"
   ]
  },
  {
   "cell_type": "markdown",
   "metadata": {},
   "source": [
    "Now the sample video should be read with a video reader object from Opencv library"
   ]
  },
  {
   "cell_type": "code",
   "execution_count": 4,
   "metadata": {},
   "outputs": [],
   "source": [
    "cfg = configs()\n",
    "\n",
    "cap = cv2.VideoCapture(os.path.join(cfg.cwd,'model','sample.mp4'))\n",
    "ret, bg = cap.read() # read the first frame"
   ]
  },
  {
   "cell_type": "markdown",
   "metadata": {},
   "source": [
    "The first frame is considered the default background at the start, and is used to compare with the next frames in the video in order to detect the motion."
   ]
  },
  {
   "cell_type": "markdown",
   "metadata": {},
   "source": [
    "In the case where we want to start the movement detection at some later frame, rather than the first one. We could write"
   ]
  },
  {
   "cell_type": "code",
   "execution_count": 5,
   "metadata": {},
   "outputs": [
    {
     "data": {
      "text/plain": [
       "True"
      ]
     },
     "execution_count": 5,
     "metadata": {},
     "output_type": "execute_result"
    }
   ],
   "source": [
    "frame_id = 1 # the frame that should we start from\n",
    "cap.set(1, frame_id-1)"
   ]
  },
  {
   "cell_type": "markdown",
   "metadata": {},
   "source": [
    "Then we intilize the background subtarctor object"
   ]
  },
  {
   "cell_type": "code",
   "execution_count": 6,
   "metadata": {},
   "outputs": [],
   "source": [
    "BG_s = BG_subtractor(bg,config=cfg)\n",
    "ret, frame = cap.read()"
   ]
  },
  {
   "cell_type": "markdown",
   "metadata": {},
   "source": [
    "## Main loop\n",
    "Now everything are ready to start the background subtarction loop.\n",
    "The result will be shown in a new window\n",
    "\n",
    "The video will keep running until you hit **ESC** or the video ends"
   ]
  },
  {
   "cell_type": "code",
   "execution_count": 7,
   "metadata": {},
   "outputs": [],
   "source": [
    "while ret:\n",
    "    frame_id += 1\n",
    "    \n",
    "    I_com = BG_s.bg_substract(frame)\n",
    "    \n",
    "    cv2.imshow('fgmask', resize(I_com,0.2)) \n",
    "    \n",
    "    #print(frame_id)\n",
    "    k = cv2.waitKey(30) & 0xff\n",
    "    if k == 27: \n",
    "        break\n",
    "    ret, frame = cap.read()\n",
    "\n",
    "cap.release() \n",
    "cv2.destroyAllWindows() "
   ]
  },
  {
   "cell_type": "markdown",
   "metadata": {},
   "source": [
    "As it was shown, the result has some problems, \n",
    "The moving cyclists are detected but not perfectly. Additionally the trees and parts of the road are detected as moving objects.\n",
    "\n",
    "\n",
    "A resonable step would be to filter the video from the small noisy objects by deleting the small blobs. we can test that using other method of the class, namely: \n",
    "`get_big_objects`\n"
   ]
  },
  {
   "cell_type": "code",
   "execution_count": 15,
   "metadata": {},
   "outputs": [],
   "source": [
    "cap = cv2.VideoCapture(os.path.join(cfg.cwd,'model','sample.mp4'))\n",
    "ret, bg = cap.read() # read the first frame\n",
    "\n",
    "BG_s = BG_subtractor(bg,config=cfg)\n",
    "ret, frame = cap.read()\n",
    "frame_id = 0\n",
    "\n",
    "while ret:\n",
    "    frame_id += 1\n",
    "    \n",
    "    I_com = BG_s.bg_substract(frame)\n",
    "    # filter small objects\n",
    "    I_com, _ = BG_s.get_big_objects(I_com,frame)\n",
    "    \n",
    "    cv2.imshow('fgmask', resize(I_com,0.2)) \n",
    "    \n",
    "    if frame_id == 30:\n",
    "        frame_2_save = resize(I_com).copy()\n",
    "    #print(frame_id)\n",
    "    k = cv2.waitKey(30) & 0xff\n",
    "    if k == 27: \n",
    "        break\n",
    "    ret, frame = cap.read()\n",
    "\n",
    "cap.release() \n",
    "cv2.destroyAllWindows() "
   ]
  },
  {
   "cell_type": "markdown",
   "metadata": {},
   "source": [
    "Finally we can view the result at step 30, as follows:"
   ]
  },
  {
   "cell_type": "code",
   "execution_count": 9,
   "metadata": {},
   "outputs": [],
   "source": [
    "%matplotlib inline"
   ]
  },
  {
   "cell_type": "markdown",
   "metadata": {},
   "source": [
    "if you don't have `matplotlib` installed, you can install it with pip. or just view the below cell, (if not ran interactively)"
   ]
  },
  {
   "cell_type": "code",
   "execution_count": 16,
   "metadata": {},
   "outputs": [
    {
     "data": {
      "text/plain": [
       "<matplotlib.image.AxesImage at 0x1c490472d08>"
      ]
     },
     "execution_count": 16,
     "metadata": {},
     "output_type": "execute_result"
    },
    {
     "data": {
      "image/png": "[encoded data removed]",
      "text/plain": [
       "<Figure size 432x288 with 1 Axes>"
      ]
     },
     "metadata": {
      "needs_background": "light"
     },
     "output_type": "display_data"
    }
   ],
   "source": [
    "import matplotlib.pyplot as plt\n",
    "plt.imshow(frame_2_save)"
   ]
  },
  {
   "cell_type": "markdown",
   "metadata": {},
   "source": [
    "This final result shows much better output (although there is still some noise from the moving trees but it is smaller)"
   ]
  }
 ],
 "metadata": {
  "kernelspec": {
   "display_name": "Python 3 (ipykernel)",
   "language": "python",
   "name": "python3"
  },
  "language_info": {
   "codemirror_mode": {
    "name": "ipython",
    "version": 3
   },
   "file_extension": ".py",
   "mimetype": "text/x-python",
   "name": "python",
   "nbconvert_exporter": "python",
   "pygments_lexer": "ipython3",
   "version": "3.7.7"
  }
 },
 "nbformat": 4,
 "nbformat_minor": 2
}
